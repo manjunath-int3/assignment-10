{
 "cells": [
  {
   "cell_type": "code",
   "execution_count": 9,
   "metadata": {},
   "outputs": [
    {
     "name": "stdout",
     "output_type": "stream",
     "text": [
      "probability of rawcorn starch affecting the mean value of glucose level is = 99.93128620620841 percent\n"
     ]
    }
   ],
   "source": [
    "import statistics\n",
    "import scipy\n",
    "import math\n",
    "from scipy import stats as st\n",
    "mu=100\n",
    "sample_mu=108\n",
    "n=36\n",
    "sd=15\n",
    "z=(sample_mu-mu)/(sd/math.sqrt(36))\n",
    "p=st.norm.cdf(z)\n",
    "print(\"probability of rawcorn starch affecting the mean value of glucose level is =\",p*100,\"percent\")"
   ]
  },
  {
   "cell_type": "code",
   "execution_count": 21,
   "metadata": {},
   "outputs": [
    {
     "name": "stdout",
     "output_type": "stream",
     "text": [
      "0.6383556584353189\n",
      "My score is better than 63.835565843531896 % of all test takers\n",
      "My score is 13.835565843531894 % better than the average test taker\n"
     ]
    }
   ],
   "source": [
    "mu=1026\n",
    "x=1100\n",
    "sd=209\n",
    "z=(x-mu)/sd\n",
    "p=st.norm.cdf(z)\n",
    "print(p)\n",
    "print(\"My score is better than\",p*100,\"% of all test takers\")\n",
    "print(\"My score is\",(p-0.5)*100,\"% better than the average test taker\")"
   ]
  },
  {
   "cell_type": "code",
   "execution_count": 44,
   "metadata": {},
   "outputs": [
    {
     "name": "stdout",
     "output_type": "stream",
     "text": [
      "probability that the survey will show a greater percentage of Republican voters in the second state than in the first state is= 23.946399182220013 %\n"
     ]
    }
   ],
   "source": [
    "n1=100\n",
    "n2=100\n",
    "P1=0.52\n",
    "P2=0.47\n",
    "#find probability of p1-p2 being less than zero\n",
    "#mean of the difference\n",
    "mu_12=P1-P2\n",
    "sigma_12=math.sqrt((P1*(1-P1)/n1)+(P2*(1-P2)/n2))\n",
    "z_12=0-mu_12/sigma_12\n",
    "z_12\n",
    "p=st.norm.cdf(z_12)\n",
    "print(\"probability that the survey will show a greater percentage of Republican voters in the second state than in the first state is=\",p*100,\"%\")"
   ]
  },
  {
   "cell_type": "code",
   "execution_count": 18,
   "metadata": {},
   "outputs": [
    {
     "data": {
      "text/plain": [
       "Power_divergenceResult(statistic=8.240961196906024, pvalue=0.31182664079818034)"
      ]
     },
     "execution_count": 18,
     "metadata": {},
     "output_type": "execute_result"
    }
   ],
   "source": [
    "import numpy as np\n",
    "observed=[60,54,46,41,40,44,53,57]\n",
    "expected=[50.886, 49.868, 50.377, 49.868,49.114, 48.132, 48.623, 48.132]\n",
    "from scipy import stats\n",
    "stats.chisquare(expected,observed)\n"
   ]
  },
  {
   "cell_type": "code",
   "execution_count": 26,
   "metadata": {},
   "outputs": [
    {
     "name": "stdout",
     "output_type": "stream",
     "text": [
      "since the P-value 8.006066246262538 i greater than critcial value of x**2, we reject null hypothesis to find that ducation level is dependent on gender\n"
     ]
    }
   ],
   "source": [
    "import numpy as np\n",
    "import pandas as pd\n",
    "import scipy\n",
    "from scipy import stats\n",
    "from scipy.stats import chi2_contingency\n",
    "#Null Hypothesis: The two variables are independent\n",
    "#Alternative: The two variables are dependent\n",
    "female=[60,54,46,41]\n",
    "male=[40,44,53,57]\n",
    "observed=np.array([female,male])\n",
    "x=chi2_contingency(observed)[0]\n",
    "#Critical value of x2 for degree of freedom 3 & 0.05 significance level is 7.815\n",
    "print(\"since the P-value\",x,\"i greater than critcial value of x**2, we reject null hypothesis to find that ducation level is dependent on gender\")\n"
   ]
  },
  {
   "cell_type": "code",
   "execution_count": 22,
   "metadata": {},
   "outputs": [
    {
     "data": {
      "text/plain": [
       "F_onewayResult(statistic=9.747205503009463, pvalue=0.0030597541434430556)"
      ]
     },
     "execution_count": 22,
     "metadata": {},
     "output_type": "execute_result"
    }
   ],
   "source": [
    "import scipy.stats as stats\n",
    "a=[51, 45, 33, 45, 67]\n",
    "b=[23, 43, 23, 43, 45]\n",
    "c=[56, 76, 74, 87, 56]\n",
    "\n",
    "stats.f_oneway(a,b,c)"
   ]
  },
  {
   "cell_type": "code",
   "execution_count": null,
   "metadata": {},
   "outputs": [],
   "source": []
  }
 ],
 "metadata": {
  "kernelspec": {
   "display_name": "Python 3",
   "language": "python",
   "name": "python3"
  },
  "language_info": {
   "codemirror_mode": {
    "name": "ipython",
    "version": 3
   },
   "file_extension": ".py",
   "mimetype": "text/x-python",
   "name": "python",
   "nbconvert_exporter": "python",
   "pygments_lexer": "ipython3",
   "version": "3.6.5"
  }
 },
 "nbformat": 4,
 "nbformat_minor": 2
}
